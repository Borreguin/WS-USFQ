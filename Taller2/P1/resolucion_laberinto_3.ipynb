{
 "cells": [
  {
   "cell_type": "code",
   "execution_count": null,
   "id": "5f7c45d0",
   "metadata": {},
   "outputs": [],
   "source": [
    "import matplotlib.pyplot as plt\n",
    "import networkx as nx"
   ]
  },
  {
   "cell_type": "code",
   "execution_count": null,
   "id": "c332a526",
   "metadata": {},
   "outputs": [],
   "source": [
    "def load_maze(filename):\n",
    "    with open(filename, 'r') as file:\n",
    "        maze = [list(line.strip()) for line in file]\n",
    "    return maze\n",
    "\n",
    "maze = load_maze('laberinto3.txt')\n",
    "maze"
   ]
  },
  {
   "cell_type": "code",
   "execution_count": null,
   "id": "357ca969",
   "metadata": {},
   "outputs": [],
   "source": [
    "def define_color(cell):\n",
    "    if cell == '#': return 'black'\n",
    "    elif cell == ' ': return 'white'\n",
    "    elif cell == 'E': return 'green'\n",
    "    elif cell == 'S': return 'red'\n",
    "    elif cell == '*': return 'blue'\n",
    "    elif cell == ',': return 'orange'  # nodos explorados"
   ]
  },
  {
   "cell_type": "code",
   "execution_count": null,
   "id": "92ac8cb5",
   "metadata": {},
   "outputs": [],
   "source": [
    "def maze_to_graph(maze):\n",
    "    G = nx.Graph()\n",
    "    start = end = None\n",
    "    height, width = len(maze), len(maze[0])\n",
    "    for y in range(height):\n",
    "        for x in range(width):\n",
    "            if maze[y][x] != '#':\n",
    "                if maze[y][x] == 'E': start = (x, y)\n",
    "                if maze[y][x] == 'S': end = (x, y)\n",
    "                for dx, dy in [(-1,0), (1,0), (0,-1), (0,1)]:\n",
    "                    nx_, ny_ = x+dx, y+dy\n",
    "                    if 0 <= nx_ < width and 0 <= ny_ < height and maze[ny_][nx_] != '#':\n",
    "                        G.add_edge((x,y), (nx_,ny_), weight=1)\n",
    "    return G, start, end\n",
    "\n",
    "G, start, end = maze_to_graph(maze)\n",
    "start, end"
   ]
  },
  {
   "cell_type": "code",
   "execution_count": null,
   "id": "baf3d5aa",
   "metadata": {},
   "outputs": [],
   "source": [
    "def heuristic(a, b):\n",
    "    return abs(a[0] - b[0]) + abs(a[1] - b[1])\n",
    "\n",
    "path_a_star = nx.astar_path(G, start, end, heuristic=heuristic)\n",
    "path_dijkstra = nx.dijkstra_path(G, start, end)"
   ]
  },
  {
   "cell_type": "code",
   "execution_count": null,
   "id": "104692e3",
   "metadata": {},
   "outputs": [],
   "source": [
    "def draw_path_on_maze(maze, path):\n",
    "    maze_copy = [row.copy() for row in maze]\n",
    "    for (x, y) in path:\n",
    "        if maze_copy[y][x] not in ('E', 'S'):\n",
    "            maze_copy[y][x] = '*'\n",
    "            maze[y][x] = ','  # Marca el nodo como explorado\n",
    "    return maze_copy\n",
    "\n",
    "maze_astar = draw_path_on_maze(maze, path_a_star)\n",
    "maze_dijkstra = draw_path_on_maze(maze, path_dijkstra)\n"
   ]
  },
  {
   "cell_type": "code",
   "execution_count": null,
   "id": "181a4694",
   "metadata": {},
   "outputs": [],
   "source": [
    "def plot_maze(maze):\n",
    "    height, width = len(maze), len(maze[0])\n",
    "    fig = plt.figure(figsize=(width/4, height/4))\n",
    "    for y in range(height):\n",
    "        for x in range(width):\n",
    "            cell = maze[y][x]\n",
    "            color = define_color(cell)\n",
    "            plt.fill([x, x+1, x+1, x], [y, y, y+1, y+1], color=color, edgecolor='black')\n",
    "    plt.xlim(0, width)\n",
    "    plt.ylim(0, height)\n",
    "    plt.gca().invert_yaxis()\n",
    "    plt.xticks([])\n",
    "    plt.yticks([])\n",
    "    plt.show()"
   ]
  },
  {
   "cell_type": "code",
   "execution_count": null,
   "id": "d279ee20",
   "metadata": {},
   "outputs": [],
   "source": [
    "plot_maze(maze_astar)"
   ]
  },
  {
   "cell_type": "code",
   "execution_count": null,
   "id": "cb5b3fa6",
   "metadata": {},
   "outputs": [],
   "source": [
    "plot_maze(maze_dijkstra)"
   ]
  }
 ],
 "metadata": {
  "kernelspec": {
   "display_name": "Python 3",
   "language": "python",
   "name": "python3"
  },
  "language_info": {
   "codemirror_mode": {
    "name": "ipython",
    "version": 3
   },
   "file_extension": ".py",
   "mimetype": "text/x-python",
   "name": "python",
   "nbconvert_exporter": "python",
   "pygments_lexer": "ipython3",
   "version": "3.13.3"
  }
 },
 "nbformat": 4,
 "nbformat_minor": 5
}
