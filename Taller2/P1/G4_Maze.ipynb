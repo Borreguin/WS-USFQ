{
 "cells": [
  {
   "cell_type": "code",
   "execution_count": 1,
   "id": "14d2ba5e",
   "metadata": {},
   "outputs": [],
   "source": [
    "import matplotlib.pyplot as plt\n",
    "import os, sys"
   ]
  },
  {
   "cell_type": "code",
   "execution_count": 2,
   "id": "02a27719",
   "metadata": {},
   "outputs": [],
   "source": [
    "def define_color(cell):\n",
    "    if cell == '#':\n",
    "        return 'black'\n",
    "    elif cell == ' ':   # Espacio vacío\n",
    "        return 'white'\n",
    "    elif cell == 'E':   # Entrada\n",
    "        return 'green'\n",
    "    elif cell == 'S':   # Salida\n",
    "        return 'red'"
   ]
  },
  {
   "cell_type": "code",
   "execution_count": 3,
   "id": "a4dd7b6b",
   "metadata": {},
   "outputs": [],
   "source": [
    "project_path = os.getcwd()\n",
    "sys.path.append(project_path)"
   ]
  },
  {
   "cell_type": "code",
   "execution_count": 4,
   "id": "8109139c",
   "metadata": {},
   "outputs": [],
   "source": [
    "class MazeLoader:\n",
    "    def __init__(self, filename):\n",
    "        self.filename = filename\n",
    "        self.maze = None\n",
    "\n",
    "    def load_Maze(self):\n",
    "        _maze = []\n",
    "        file_path = os.path.join(project_path, self.filename)\n",
    "        print(\"Loading Maze from\", file_path)\n",
    "        with open(file_path, 'r') as file:\n",
    "            for line in file:\n",
    "                _maze.append(list(line.strip()))\n",
    "        self.maze = _maze\n",
    "        return self\n",
    "\n",
    "    def plot_maze(self):\n",
    "        height = len(self.maze)\n",
    "        width = len(self.maze[0])\n",
    "\n",
    "        fig = plt.figure(figsize=(width/4, height/4))  # Ajusta el tamaño de la figura según el tamaño del Maze\n",
    "        for y in range(height):\n",
    "            for x in range(width):\n",
    "                cell = self.maze[y][x]\n",
    "                color = define_color(cell)\n",
    "                plt.fill([x, x+1, x+1, x], [y, y, y+1, y+1], color=color, edgecolor='black')\n",
    "\n",
    "        plt.xlim(0, width)\n",
    "        plt.ylim(0, height)\n",
    "        plt.gca().invert_yaxis()  # Invierte el eje y para que el origen esté en la esquina inferior izquierda\n",
    "        plt.xticks([])\n",
    "        plt.yticks([])\n",
    "        fig.tight_layout()\n",
    "        plt.show()\n",
    "        return self\n",
    "    def get_graph(self):\n",
    "        # Convertir el laberinto en un grafo\n",
    "        graph = {}\n",
    "        height = len(self.maze)\n",
    "        width = len(self.maze[0])\n",
    "        for y in range(height):\n",
    "            for x in range(width):\n",
    "                cell = self.maze[y][x]\n",
    "                if cell == '#':\n",
    "                    continue\n",
    "                neighbors = []\n",
    "                if y > 0 and self.maze[y-1][x] != '#':\n",
    "                    neighbors.append((x, y-1))\n",
    "                if y < height - 1 and self.maze[y+1][x] != '#':\n",
    "                    neighbors.append((x, y+1))\n",
    "                if x > 0 and self.maze[y][x-1] != '#':\n",
    "                    neighbors.append((x-1, y))\n",
    "                if x < width - 1 and self.maze[y][x+1] != '#':\n",
    "                    neighbors.append((x+1, y))\n",
    "                graph[(x, y)] = neighbors\n",
    "        return graph\n",
    "    \n",
    "    "
   ]
  },
  {
   "cell_type": "code",
   "execution_count": 5,
   "id": "3ed45b30",
   "metadata": {},
   "outputs": [
    {
     "name": "stdout",
     "output_type": "stream",
     "text": [
      "Loading Maze from d:\\Inteligencia_Artificial\\WS-USFQ\\Taller2\\P1\\laberinto1.txt\n"
     ]
    },
    {
     "data": {
      "image/png": "[encoded data removed]",
      "text/plain": [
       "<Figure size 275x225 with 1 Axes>"
      ]
     },
     "metadata": {},
     "output_type": "display_data"
    },
    {
     "data": {
      "text/plain": [
       "<__main__.MazeLoader at 0x2a8389d0400>"
      ]
     },
     "execution_count": 5,
     "metadata": {},
     "output_type": "execute_result"
    }
   ],
   "source": [
    "# leer el laberinto desde un archivo\n",
    "maze_loader = MazeLoader('laberinto1.txt')\n",
    "maze_loader.load_Maze()\n",
    "maze_loader.plot_maze()\n"
   ]
  },
  {
   "cell_type": "code",
   "execution_count": null,
   "id": "3a4b29bf",
   "metadata": {},
   "outputs": [],
   "source": [
    "import time\n",
    "import matplotlib.pyplot as plt\n",
    "from collections import deque\n",
    "import heapq\n",
    "\n",
    "class MazeLoader:\n",
    "    def __init__(self, filename):\n",
    "        self.filename = filename\n",
    "        self.maze = []\n",
    "        self.start = None\n",
    "        self.end = None\n",
    "\n",
    "    def load_Maze(self):\n",
    "        with open(self.filename, 'r') as file:\n",
    "            self.maze = [list(line.strip()) for line in file]\n",
    "\n",
    "        for i, row in enumerate(self.maze):\n",
    "            for j, cell in enumerate(row):\n",
    "                if cell == 'S':\n",
    "                    self.start = (i, j)\n",
    "                elif cell == 'E':\n",
    "                    self.end = (i, j)\n",
    "\n",
    "    def plot_maze(self, path=None, title=\"Laberinto\", filename=None, color=0.5):\n",
    "        maze_map = {'#': 0, ' ': 1, 'S': 0.2, 'E': 0.8}\n",
    "        grid = [[maze_map.get(cell, 1) for cell in row] for row in self.maze]\n",
    "\n",
    "        if path:\n",
    "            for r, c in path:\n",
    "                if self.maze[r][c] not in ['S', 'E']:\n",
    "                    grid[r][c] = color\n",
    "\n",
    "        plt.imshow(grid, cmap='gray_r')\n",
    "        plt.title(title)\n",
    "        plt.axis('off')\n",
    "        if filename:\n",
    "            plt.savefig(filename, bbox_inches='tight')\n",
    "        plt.show()\n",
    "\n",
    "    def get_neighbors(self, pos):\n",
    "        rows, cols = len(self.maze), len(self.maze[0])\n",
    "        directions = [(-1,0), (1,0), (0,-1), (0,1)]\n",
    "        neighbors = []\n",
    "        for dr, dc in directions:\n",
    "            r, c = pos[0] + dr, pos[1] + dc\n",
    "            if 0 <= r < rows and 0 <= c < cols and self.maze[r][c] != '#':\n",
    "                neighbors.append((r, c))\n",
    "        return neighbors\n",
    "\n",
    "    def heuristic(self, a, b):\n",
    "        return abs(a[0] - b[0]) + abs(a[1] - b[1])\n",
    "\n",
    "    def bfs(self):\n",
    "        queue = deque([(self.start, [self.start])])\n",
    "        visited = set()\n",
    "        nodes_expanded = 0\n",
    "\n",
    "        while queue:\n",
    "            (current, path) = queue.popleft()\n",
    "            if current in visited:\n",
    "                continue\n",
    "            visited.add(current)\n",
    "            nodes_expanded += 1\n",
    "\n",
    "            if current == self.end:\n",
    "                return path, nodes_expanded\n",
    "\n",
    "            for neighbor in self.get_neighbors(current):\n",
    "                if neighbor not in visited:\n",
    "                    queue.append((neighbor, path + [neighbor]))\n",
    "\n",
    "        return None, nodes_expanded\n",
    "\n",
    "    def astar(self):\n",
    "        open_set = [(self.heuristic(self.start, self.end), 0, self.start, [self.start])]\n",
    "        visited = set()\n",
    "        nodes_expanded = 0\n",
    "\n",
    "        while open_set:\n",
    "            _, cost, current, path = heapq.heappop(open_set)\n",
    "            if current in visited:\n",
    "                continue\n",
    "            visited.add(current)\n",
    "            nodes_expanded += 1\n",
    "\n",
    "            if current == self.end:\n",
    "                return path, nodes_expanded\n",
    "\n",
    "            for neighbor in self.get_neighbors(current):\n",
    "                if neighbor not in visited:\n",
    "                    new_cost = cost + 1\n",
    "                    priority = new_cost + self.heuristic(neighbor, self.end)\n",
    "                    heapq.heappush(open_set, (priority, new_cost, neighbor, path + [neighbor]))\n",
    "\n",
    "        return None, nodes_expanded\n",
    "\n",
    "    def comparar_algoritmos(self):\n",
    "        # BFS\n",
    "        t0 = time.perf_counter()\n",
    "        path_bfs, nodes_bfs = self.bfs()\n",
    "        time_bfs = time.perf_counter() - t0\n",
    "\n",
    "        # A*\n",
    "        t0 = time.perf_counter()\n",
    "        path_astar, nodes_astar = self.astar()\n",
    "        time_astar = time.perf_counter() - t0\n",
    "\n",
    "        print(\"Resultados de búsqueda:\")\n",
    "        print(f\"BFS   → Tiempo: {time_bfs:.6f}s, Nodos: {nodes_bfs}, Longitud: {len(path_bfs)}\")\n",
    "        print(f\"A*    → Tiempo: {time_astar:.6f}s, Nodos: {nodes_astar}, Longitud: {len(path_astar)}\")\n",
    "\n",
    "        # Graficar y guardar imágenes\n",
    "        self.plot_maze(path_bfs, title=\"Solución BFS\", filename=\"bfs_solution.png\", color=0.4)\n",
    "        self.plot_maze(path_astar, title=\"Solución A*\", filename=\"astar_solution.png\", color=0.6)\n"
   ]
  },
  {
   "cell_type": "code",
   "execution_count": 10,
   "id": "e5c0069d",
   "metadata": {},
   "outputs": [
    {
     "name": "stdout",
     "output_type": "stream",
     "text": [
      "Resultados de búsqueda:\n",
      "BFS   → Tiempo: 0.000124s, Nodos: 43, Longitud: 15\n",
      "A*    → Tiempo: 0.000151s, Nodos: 33, Longitud: 15\n"
     ]
    },
    {
     "data": {
      "image/png": "[encoded data removed]",
      "text/plain": [
       "<Figure size 640x480 with 1 Axes>"
      ]
     },
     "metadata": {},
     "output_type": "display_data"
    },
    {
     "data": {
      "image/png": "[encoded data removed]",
      "text/plain": [
       "<Figure size 640x480 with 1 Axes>"
      ]
     },
     "metadata": {},
     "output_type": "display_data"
    }
   ],
   "source": [
    "maze_loader = MazeLoader('laberinto1.txt')\n",
    "maze_loader.load_Maze()\n",
    "maze_loader.comparar_algoritmos()\n"
   ]
  },
  {
   "cell_type": "code",
   "execution_count": 11,
   "id": "39964638",
   "metadata": {},
   "outputs": [
    {
     "name": "stdout",
     "output_type": "stream",
     "text": [
      "Resultados de búsqueda:\n",
      "BFS   → Tiempo: 0.001950s, Nodos: 158, Longitud: 45\n",
      "A*    → Tiempo: 0.001454s, Nodos: 72, Longitud: 45\n"
     ]
    },
    {
     "data": {
      "image/png": "[encoded data removed]",
      "text/plain": [
       "<Figure size 640x480 with 1 Axes>"
      ]
     },
     "metadata": {},
     "output_type": "display_data"
    },
    {
     "data": {
      "image/png": "[encoded data removed]",
      "text/plain": [
       "<Figure size 640x480 with 1 Axes>"
      ]
     },
     "metadata": {},
     "output_type": "display_data"
    }
   ],
   "source": [
    "maze_loader = MazeLoader('laberinto2.txt')\n",
    "maze_loader.load_Maze()\n",
    "maze_loader.comparar_algoritmos()"
   ]
  },
  {
   "cell_type": "code",
   "execution_count": 12,
   "id": "6a5c3d8f",
   "metadata": {},
   "outputs": [
    {
     "name": "stdout",
     "output_type": "stream",
     "text": [
      "Resultados de búsqueda:\n",
      "BFS   → Tiempo: 0.013882s, Nodos: 1268, Longitud: 345\n",
      "A*    → Tiempo: 0.018683s, Nodos: 1262, Longitud: 345\n"
     ]
    },
    {
     "data": {
      "image/png": "[encoded data removed]",
      "text/plain": [
       "<Figure size 640x480 with 1 Axes>"
      ]
     },
     "metadata": {},
     "output_type": "display_data"
    },
    {
     "data": {
      "image/png": "[encoded data removed]",
      "text/plain": [
       "<Figure size 640x480 with 1 Axes>"
      ]
     },
     "metadata": {},
     "output_type": "display_data"
    }
   ],
   "source": [
    "maze_loader = MazeLoader('laberinto3.txt')\n",
    "maze_loader.load_Maze()\n",
    "maze_loader.comparar_algoritmos()"
   ]
  },
  {
   "cell_type": "markdown",
   "id": "33c3c3ff",
   "metadata": {},
   "source": [
    "Las metricas utilizadas para comparar ambos algoritmos de búsqueda son importantes ya que nos permite evaluar la efectividad de cada uno de ellos. Tanto el tiempo como el número de nodos recorridos son métricas necesarias para saber al final cual de ellos se deben usar para un óptimo rendimiento."
   ]
  },
  {
   "cell_type": "markdown",
   "id": "be104388",
   "metadata": {},
   "source": []
  }
 ],
 "metadata": {
  "kernelspec": {
   "display_name": "base",
   "language": "python",
   "name": "python3"
  },
  "language_info": {
   "codemirror_mode": {
    "name": "ipython",
    "version": 3
   },
   "file_extension": ".py",
   "mimetype": "text/x-python",
   "name": "python",
   "nbconvert_exporter": "python",
   "pygments_lexer": "ipython3",
   "version": "3.10.9"
  }
 },
 "nbformat": 4,
 "nbformat_minor": 5
}
