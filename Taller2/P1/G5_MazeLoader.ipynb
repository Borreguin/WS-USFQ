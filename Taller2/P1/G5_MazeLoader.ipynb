{
 "cells": [
  {
   "cell_type": "code",
   "execution_count": 1,
   "id": "14d2ba5e",
   "metadata": {},
   "outputs": [],
   "source": [
    "import matplotlib.pyplot as plt\n",
    "import os, sys"
   ]
  },
  {
   "cell_type": "code",
   "execution_count": 5,
   "id": "02a27719",
   "metadata": {},
   "outputs": [],
   "source": [
    "def define_color(cell):\n",
    "    if cell == '#':\n",
    "        return 'black'\n",
    "    elif cell == ' ':   # Espacio vacío\n",
    "        return 'white'\n",
    "    elif cell == 'E':   # Entrada\n",
    "        return 'green'\n",
    "    elif cell == 'S':   # Salida\n",
    "        return 'red'"
   ]
  },
  {
   "cell_type": "code",
   "execution_count": 6,
   "id": "a4dd7b6b",
   "metadata": {},
   "outputs": [],
   "source": [
    "project_path = os.getcwd()\n",
    "sys.path.append(project_path)"
   ]
  },
  {
   "cell_type": "code",
   "execution_count": null,
   "id": "8109139c",
   "metadata": {},
   "outputs": [],
   "source": [
    "class MazeLoader:\n",
    "    def __init__(self, filename):\n",
    "        self.filename = filename\n",
    "        self.maze = None\n",
    "\n",
    "    def load_Maze(self):\n",
    "        _maze = []\n",
    "        file_path = os.path.join(project_path, self.filename)\n",
    "        print(\"Loading Maze from\", file_path)\n",
    "        with open(file_path, 'r') as file:\n",
    "            for line in file:\n",
    "                _maze.append(list(line.strip()))\n",
    "        self.maze = _maze\n",
    "        return self\n",
    "\n",
    "    def plot_maze(self):\n",
    "        height = len(self.maze)\n",
    "        width = len(self.maze[0])\n",
    "\n",
    "        fig = plt.figure(figsize=(width/4, height/4))  # Ajusta el tamaño de la figura según el tamaño del Maze\n",
    "        for y in range(height):\n",
    "            for x in range(width):\n",
    "                cell = self.maze[y][x]\n",
    "                color = define_color(cell)\n",
    "                plt.fill([x, x+1, x+1, x], [y, y, y+1, y+1], color=color, edgecolor='black')\n",
    "\n",
    "        plt.xlim(0, width)\n",
    "        plt.ylim(0, height)\n",
    "        plt.gca().invert_yaxis()  # Invierte el eje y para que el origen esté en la esquina inferior izquierda\n",
    "        plt.xticks([])\n",
    "        plt.yticks([])\n",
    "        fig.tight_layout()\n",
    "        plt.show()\n",
    "        return self\n",
    "    def get_graph(self):\n",
    "        # Convertir el laberinto en un grafo\n",
    "        graph = {}\n",
    "        height = len(self.maze)\n",
    "        width = len(self.maze[0])\n",
    "        for y in range(height):\n",
    "            for x in range(width):\n",
    "                cell = self.maze[y][x]\n",
    "                if cell == '#':\n",
    "                    continue\n",
    "                neighbors = []\n",
    "                if y > 0 and self.maze[y-1][x] != '#':\n",
    "                    neighbors.append((x, y-1))\n",
    "                if y < height - 1 and self.maze[y+1][x] != '#':\n",
    "                    neighbors.append((x, y+1))\n",
    "                if x > 0 and self.maze[y][x-1] != '#':\n",
    "                    neighbors.append((x-1, y))\n",
    "                if x < width - 1 and self.maze[y][x+1] != '#':\n",
    "                    neighbors.append((x+1, y))\n",
    "                graph[(x, y)] = neighbors\n",
    "        return graph\n",
    "    \n",
    "    "
   ]
  },
  {
   "cell_type": "code",
   "execution_count": 12,
   "id": "3ed45b30",
   "metadata": {},
   "outputs": [
    {
     "name": "stdout",
     "output_type": "stream",
     "text": [
      "Loading Maze from /Users/byronvinueza/Documents/MDS/MSDS_6003_IA/WS-USFQ/Taller2/P1/laberinto1.txt\n"
     ]
    },
    {
     "data": {
      "image/png": "[encoded data removed]",
      "text/plain": [
       "<Figure size 275x225 with 1 Axes>"
      ]
     },
     "metadata": {},
     "output_type": "display_data"
    },
    {
     "data": {
      "text/plain": [
       "<__main__.MazeLoader at 0x1483c1490>"
      ]
     },
     "execution_count": 12,
     "metadata": {},
     "output_type": "execute_result"
    }
   ],
   "source": [
    "# leer el laberinto desde un archivo\n",
    "maze_loader = MazeLoader('laberinto1.txt')\n",
    "maze_loader.load_Maze()\n",
    "maze_loader.plot_maze()\n"
   ]
  }
 ],
 "metadata": {
  "kernelspec": {
   "display_name": "base",
   "language": "python",
   "name": "python3"
  },
  "language_info": {
   "codemirror_mode": {
    "name": "ipython",
    "version": 3
   },
   "file_extension": ".py",
   "mimetype": "text/x-python",
   "name": "python",
   "nbconvert_exporter": "python",
   "pygments_lexer": "ipython3",
   "version": "3.12.2"
  }
 },
 "nbformat": 4,
 "nbformat_minor": 5
}
