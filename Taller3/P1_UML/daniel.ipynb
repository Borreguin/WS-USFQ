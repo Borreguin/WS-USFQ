{
 "cells": [
  {
   "cell_type": "markdown",
   "metadata": {
    "vscode": {
     "languageId": "plaintext"
    }
   },
   "source": [
    "Import Libraries"
   ]
  },
  {
   "cell_type": "code",
   "execution_count": 28,
   "metadata": {},
   "outputs": [],
   "source": [
    "import pandas as pd\n",
    "from p1_uml_util import *"
   ]
  },
  {
   "cell_type": "code",
   "execution_count": 29,
   "metadata": {},
   "outputs": [],
   "source": [
    "def prepare_data():\n",
    "    # script_path = os.path.dirname(os.path.abspath())\n",
    "    #data_path = os.path.join(script_path, \"data\")\n",
    "    #file_path = os.path.join(data_path, \"data.csv\")\n",
    "    _df = read_csv_file('data/data.csv')\n",
    "    _df['timestamp'] = pd.to_datetime(_df['timestamp'], format='%d.%m.%Y %H:%M')\n",
    "    print(_df.dtypes)\n",
    "    _df.set_index(lb_timestamp, inplace=True)\n",
    "    print(_df.dtypes)\n",
    "    return _df\n",
    "\n"
   ]
  },
  {
   "cell_type": "code",
   "execution_count": 32,
   "metadata": {},
   "outputs": [],
   "source": [
    "def plot_data(_df: pd.DataFrame, lb1, lb2, legend):\n",
    "    import matplotlib.pyplot as plt\n",
    "    _df_to_plot = _df.copy\n",
    "    plt.plot(_df_to_plot.index, _df_to_plot[lb1], label=alias[lb_V005_vent01_CO2])\n",
    "    plt.plot(_df_to_plot.index, _df_to_plot[lb2], label=alias[lb_V022_vent02_CO2])\n",
    "    plt.xlabel(lb_timestamp)\n",
    "    plt.ylabel(legend)\n",
    "    plt.legend()\n",
    "    plt.show()"
   ]
  },
  {
   "cell_type": "code",
   "execution_count": 34,
   "metadata": {},
   "outputs": [
    {
     "name": "stdout",
     "output_type": "stream",
     "text": [
      "timestamp               datetime64[ns]\n",
      "V005_vent01_CO2                float64\n",
      "V022_vent02_CO2                float64\n",
      "V006_vent01_temp_out           float64\n",
      "V023_vent02_temp_out           float64\n",
      "dtype: object\n",
      "V005_vent01_CO2         float64\n",
      "V022_vent02_CO2         float64\n",
      "V006_vent01_temp_out    float64\n",
      "V023_vent02_temp_out    float64\n",
      "dtype: object\n"
     ]
    },
    {
     "ename": "AttributeError",
     "evalue": "'function' object has no attribute 'index'",
     "output_type": "error",
     "traceback": [
      "\u001b[1;31m---------------------------------------------------------------------------\u001b[0m",
      "\u001b[1;31mAttributeError\u001b[0m                            Traceback (most recent call last)",
      "Cell \u001b[1;32mIn[34], line 2\u001b[0m\n\u001b[0;32m      1\u001b[0m df \u001b[38;5;241m=\u001b[39m prepare_data()\n\u001b[1;32m----> 2\u001b[0m \u001b[43mplot_data\u001b[49m\u001b[43m(\u001b[49m\u001b[43mdf\u001b[49m\u001b[43m,\u001b[49m\u001b[43m \u001b[49m\u001b[38;5;124;43m'\u001b[39;49m\u001b[38;5;124;43mlb_V005_vent01_CO2\u001b[39;49m\u001b[38;5;124;43m'\u001b[39;49m\u001b[43m,\u001b[49m\u001b[43m \u001b[49m\u001b[38;5;124;43m'\u001b[39;49m\u001b[38;5;124;43mlb_V005_vent01_CO2\u001b[39;49m\u001b[38;5;124;43m'\u001b[39;49m\u001b[43m,\u001b[49m\u001b[43m \u001b[49m\u001b[38;5;124;43m'\u001b[39;49m\u001b[38;5;124;43mCO2\u001b[39;49m\u001b[38;5;124;43m'\u001b[39;49m\u001b[43m)\u001b[49m \n",
      "Cell \u001b[1;32mIn[32], line 4\u001b[0m, in \u001b[0;36mplot_data\u001b[1;34m(_df, lb1, lb2, legend)\u001b[0m\n\u001b[0;32m      2\u001b[0m \u001b[38;5;28;01mimport\u001b[39;00m\u001b[38;5;250m \u001b[39m\u001b[38;5;21;01mmatplotlib\u001b[39;00m\u001b[38;5;21;01m.\u001b[39;00m\u001b[38;5;21;01mpyplot\u001b[39;00m\u001b[38;5;250m \u001b[39m\u001b[38;5;28;01mas\u001b[39;00m\u001b[38;5;250m \u001b[39m\u001b[38;5;21;01mplt\u001b[39;00m\n\u001b[0;32m      3\u001b[0m _df_to_plot \u001b[38;5;241m=\u001b[39m _df\u001b[38;5;241m.\u001b[39mcopy\n\u001b[1;32m----> 4\u001b[0m plt\u001b[38;5;241m.\u001b[39mplot(\u001b[43m_df_to_plot\u001b[49m\u001b[38;5;241;43m.\u001b[39;49m\u001b[43mindex\u001b[49m, _df_to_plot[lb1], label\u001b[38;5;241m=\u001b[39malias[lb_V005_vent01_CO2])\n\u001b[0;32m      5\u001b[0m plt\u001b[38;5;241m.\u001b[39mplot(_df_to_plot\u001b[38;5;241m.\u001b[39mindex, _df_to_plot[lb2], label\u001b[38;5;241m=\u001b[39malias[lb_V022_vent02_CO2])\n\u001b[0;32m      6\u001b[0m plt\u001b[38;5;241m.\u001b[39mxlabel(lb_timestamp)\n",
      "\u001b[1;31mAttributeError\u001b[0m: 'function' object has no attribute 'index'"
     ]
    }
   ],
   "source": [
    "df = prepare_data()\n",
    "plot_data(df, 'lb_V005_vent01_CO2', 'lb_V005_vent01_CO2', 'CO2') "
   ]
  }
 ],
 "metadata": {
  "kernelspec": {
   "display_name": "Python 3",
   "language": "python",
   "name": "python3"
  },
  "language_info": {
   "codemirror_mode": {
    "name": "ipython",
    "version": 3
   },
   "file_extension": ".py",
   "mimetype": "text/x-python",
   "name": "python",
   "nbconvert_exporter": "python",
   "pygments_lexer": "ipython3",
   "version": "3.10.16"
  }
 },
 "nbformat": 4,
 "nbformat_minor": 2
}
